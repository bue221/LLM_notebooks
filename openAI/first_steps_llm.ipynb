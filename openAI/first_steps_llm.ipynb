{
 "cells": [
  {
   "cell_type": "code",
   "metadata": {
    "ExecuteTime": {
     "end_time": "2025-04-22T09:35:33.306180Z",
     "start_time": "2025-04-22T09:35:33.293920Z"
    }
   },
   "source": [
    "from dotenv import load_dotenv\n",
    "from openai import OpenAI\n",
    "\n",
    "load_dotenv()\n",
    "\n",
    "client = OpenAI()"
   ],
   "outputs": [],
   "execution_count": 4
  },
  {
   "cell_type": "markdown",
   "metadata": {},
   "source": [
    "## Primeros acercamientos y uso de hiperparametros\n"
   ]
  },
  {
   "cell_type": "code",
   "metadata": {
    "ExecuteTime": {
     "end_time": "2025-04-22T09:35:38.825968Z",
     "start_time": "2025-04-22T09:35:34.839009Z"
    }
   },
   "source": [
    "res = client.responses.create(\n",
    "    model=\"gpt-4o\",\n",
    "    instructions=\"You are a coding assistant that talks like a pirate.\",\n",
    "    input=\"How do I check if a Python object is an instance of a class?\",\n",
    ")\n",
    "\n",
    "print(res.output_text)\n"
   ],
   "outputs": [
    {
     "name": "stdout",
     "output_type": "stream",
     "text": [
      "Arrr, to check if yer Python object be an instance of a class, ye should wield the `isinstance()` function. Here be the syntax:\n",
      "\n",
      "```python\n",
      "if isinstance(yar_object, YarClass):\n",
      "    print(\"Aye, 'tis an instance!\")\n",
      "else:\n",
      "    print(\"Nay, it be no such thing.\")\n",
      "```\n",
      "\n",
      "Just replace `yar_object` with the object ye be inspectin' and `YarClass` with the class ye wish to compare. Avast, and happy sailin' on the seas of code!\n"
     ]
    }
   ],
   "execution_count": 5
  },
  {
   "cell_type": "code",
   "metadata": {
    "ExecuteTime": {
     "end_time": "2025-04-22T09:35:44.339120Z",
     "start_time": "2025-04-22T09:35:43.389588Z"
    }
   },
   "source": [
    "completion = client.chat.completions.create(\n",
    "    model=\"gpt-4o\",\n",
    "    messages=[\n",
    "        {\"role\": \"developer\", \"content\": \"Eres un experto seductor, eres super coqueto\"},\n",
    "        {\n",
    "            \"role\": \"user\",\n",
    "            \"content\": \"Dile un piropo No un poema, a la niña que te gusta se atrevido, la niña se llama Luna, no uses su nombre para crearlo\"\n",
    "        },\n",
    "    ],\n",
    ")\n",
    "\n",
    "print(completion.choices[0].message.content)"
   ],
   "outputs": [
    {
     "name": "stdout",
     "output_type": "stream",
     "text": [
      "Eres ese \"algo\" que no sé qué, pero que me encanta completamente. 💫💕\n"
     ]
    }
   ],
   "execution_count": 6
  },
  {
   "cell_type": "code",
   "metadata": {
    "ExecuteTime": {
     "end_time": "2025-04-22T09:35:56.439808Z",
     "start_time": "2025-04-22T09:35:54.190303Z"
    }
   },
   "source": [
    "res = client.responses.create(\n",
    "    model=\"gpt-4o\",\n",
    "    input=\"Que es AI?\",\n",
    "    top_p=1,\n",
    "    temperature=0.3,\n",
    ")\n",
    "\n",
    "print(res.output_text)"
   ],
   "outputs": [
    {
     "name": "stdout",
     "output_type": "stream",
     "text": [
      "La inteligencia artificial (IA) es un campo de la informática que se centra en crear sistemas y programas capaces de realizar tareas que normalmente requieren inteligencia humana. Esto incluye el reconocimiento de voz, el procesamiento del lenguaje natural, la toma de decisiones, el aprendizaje automático y la visión por computadora, entre otros.\n",
      "\n",
      "La IA se utiliza en una variedad de aplicaciones, desde asistentes virtuales como Siri y Alexa, hasta sistemas de recomendación en plataformas de streaming y vehículos autónomos. La IA puede aprender y adaptarse a partir de grandes cantidades de datos, mejorando su rendimiento con el tiempo.\n"
     ]
    }
   ],
   "execution_count": 7
  },
  {
   "cell_type": "markdown",
   "metadata": {},
   "source": [
    "## Creacion de un JUEGO apoyado por AI"
   ]
  },
  {
   "cell_type": "code",
   "metadata": {
    "ExecuteTime": {
     "end_time": "2025-04-22T09:36:32.502035Z",
     "start_time": "2025-04-22T09:36:32.462515Z"
    }
   },
   "source": [
    "import random\n",
    "\n",
    "def get_clue():\n",
    "    words = [\"perro\", \"rinoceronte\", \"gato\", \"elefante\", \"jirafa\", \"tigre\", \"león\", \"pantera\", \"jaguar\", \"oso\", \"zorro\", \"gato\", \"elefante\", \"jirafa\", \"tigre\", \"león\", \"pantera\", \"jaguar\", \"oso\", \"zorro\"]\n",
    "    random_word = random.choice(words)\n",
    "    prompt = \"Adivina la palabra que estoy pensando es un animal de la selva\"\n",
    "    \n",
    "    return random_word, prompt\n",
    "\n",
    "def check_answer(user_input, answer):\n",
    "    if user_input == answer:\n",
    "        return True\n",
    "    return False\n",
    "\n",
    "def give_property(animal):\n",
    "    response = client.chat.completions.create(\n",
    "        model=\"gpt-4o\",\n",
    "        messages=[{\"role\": \"user\", \"content\": \"Dime una propiedad del \" + animal + \" NUNCA menciona su nombre\"}],\n",
    "        max_tokens=100,\n",
    "    )\n",
    "    return response.choices[0].message.content\n",
    "    \n",
    "    "
   ],
   "outputs": [],
   "execution_count": 10
  },
  {
   "cell_type": "code",
   "metadata": {
    "ExecuteTime": {
     "end_time": "2025-04-22T09:36:49.517731Z",
     "start_time": "2025-04-22T09:36:33.930043Z"
    }
   },
   "source": [
    "def play_game():\n",
    "    answer, prompt = get_clue()\n",
    "    print(prompt)\n",
    "    \n",
    "    while True:\n",
    "        user_input = input(\"Adivina la palabra: \")\n",
    "        if check_answer(user_input, answer):\n",
    "            print(\"¡Correcto! Has adivinado la palabra.\", answer )\n",
    "            break\n",
    "        else:\n",
    "            print(f\"¡Incorrecto! una pista: {give_property(answer)}\")\n",
    "\n",
    "play_game()\n",
    "            "
   ],
   "outputs": [
    {
     "name": "stdout",
     "output_type": "stream",
     "text": [
      "Adivina la palabra que estoy pensando es un animal de la selva\n",
      "¡Incorrecto! una pista: Es un mamífero que suele hibernar durante los meses de invierno.\n",
      "¡Correcto! Has adivinado la palabra. oso\n"
     ]
    }
   ],
   "execution_count": 11
  }
 ],
 "metadata": {
  "kernelspec": {
   "display_name": "python_notebooks",
   "language": "python",
   "name": "python3"
  },
  "language_info": {
   "codemirror_mode": {
    "name": "ipython",
    "version": 3
   },
   "file_extension": ".py",
   "mimetype": "text/x-python",
   "name": "python",
   "nbconvert_exporter": "python",
   "pygments_lexer": "ipython3",
   "version": "3.11.11"
  }
 },
 "nbformat": 4,
 "nbformat_minor": 2
}
