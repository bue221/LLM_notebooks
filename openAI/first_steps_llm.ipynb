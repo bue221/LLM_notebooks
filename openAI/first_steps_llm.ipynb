{
 "cells": [
  {
   "cell_type": "code",
   "execution_count": 10,
   "metadata": {},
   "outputs": [
    {
     "data": {
      "text/plain": [
       "True"
      ]
     },
     "execution_count": 10,
     "metadata": {},
     "output_type": "execute_result"
    }
   ],
   "source": [
    "from dotenv import load_dotenv\n",
    "from openai import OpenAI\n",
    "\n",
    "client = OpenAI()\n",
    "\n",
    "load_dotenv()"
   ]
  },
  {
   "cell_type": "markdown",
   "metadata": {},
   "source": [
    "## Primeros acercamientos y uso de hiperparametros\n"
   ]
  },
  {
   "cell_type": "code",
   "execution_count": 11,
   "metadata": {},
   "outputs": [
    {
     "name": "stdout",
     "output_type": "stream",
     "text": [
      "Arrr, to check if a Python object be an instance of a class, ye use the mighty `isinstance()` function. Here be how ye do it, matey:\n",
      "\n",
      "```python\n",
      "# Define a class\n",
      "class SeaCreature:\n",
      "    pass\n",
      "\n",
      "# Create an instance\n",
      "creature = SeaCreature()\n",
      "\n",
      "# Check if the instance belongs to the class\n",
      "if isinstance(creature, SeaCreature):\n",
      "    print(\"Aye, it be a SeaCreature!\")\n",
      "else:\n",
      "    print(\"Nay, it be something else!\")\n",
      "```\n",
      "\n",
      "With this, ye’ll know if yer object be of the class ye suspect, savvy?\n"
     ]
    }
   ],
   "source": [
    "res = client.responses.create(\n",
    "    model=\"gpt-4o\",\n",
    "    instructions=\"You are a coding assistant that talks like a pirate.\",\n",
    "    input=\"How do I check if a Python object is an instance of a class?\",\n",
    ")\n",
    "\n",
    "print(res.output_text)\n"
   ]
  },
  {
   "cell_type": "code",
   "execution_count": 21,
   "metadata": {},
   "outputs": [
    {
     "name": "stdout",
     "output_type": "stream",
     "text": [
      "Si ser coqueto es un arte, tu presencia es mi musa y tu sonrisa, mi inspiración.\n"
     ]
    }
   ],
   "source": [
    "completion = client.chat.completions.create(\n",
    "    model=\"gpt-4o\",\n",
    "    messages=[\n",
    "        {\"role\": \"developer\", \"content\": \"Eres un experto seductor, eres super coqueto\"},\n",
    "        {\n",
    "            \"role\": \"user\",\n",
    "            \"content\": \"Dile un piropo No un poema, a la niña que te gusta se atrevido, la niña se llama Luna, no uses su nombre para crearlo\"\n",
    "        },\n",
    "    ],\n",
    ")\n",
    "\n",
    "print(completion.choices[0].message.content)"
   ]
  },
  {
   "cell_type": "code",
   "execution_count": 23,
   "metadata": {},
   "outputs": [
    {
     "name": "stdout",
     "output_type": "stream",
     "text": [
      "La inteligencia artificial (IA) es un campo de la informática que se centra en la creación de sistemas capaces de realizar tareas que normalmente requieren inteligencia humana. Estas tareas incluyen el reconocimiento de voz, el procesamiento del lenguaje natural, la visión por computadora, la toma de decisiones y el aprendizaje automático, entre otras.\n",
      "\n",
      "La IA se divide en varias subdisciplinas, como:\n",
      "\n",
      "1. **Aprendizaje Automático (Machine Learning)**: Técnicas que permiten a las máquinas aprender de los datos y mejorar su rendimiento con el tiempo sin ser programadas explícitamente para cada tarea.\n",
      "\n",
      "2. **Procesamiento del Lenguaje Natural (NLP)**: Tecnología que permite a las máquinas comprender, interpretar y generar lenguaje humano.\n",
      "\n",
      "3. **Visión por Computadora**: Permite a las máquinas interpretar y comprender el contenido visual del mundo, como imágenes y videos.\n",
      "\n",
      "4. **Robótica**: Involucra el diseño y uso de robots que pueden realizar tareas físicas en el mundo real.\n",
      "\n",
      "La IA se utiliza en una amplia variedad de aplicaciones, desde asistentes virtuales y motores de recomendación hasta vehículos autónomos y diagnósticos médicos.\n"
     ]
    }
   ],
   "source": [
    "res = client.responses.create(\n",
    "    model=\"gpt-4o\",\n",
    "    input=\"Que es AI?\",\n",
    "    top_p=1,\n",
    "    temperature=0.3,\n",
    ")\n",
    "\n",
    "print(res.output_text)"
   ]
  },
  {
   "cell_type": "markdown",
   "metadata": {},
   "source": [
    "## Creacion de un JUEGO apoyado por AI"
   ]
  },
  {
   "cell_type": "code",
   "execution_count": 30,
   "metadata": {},
   "outputs": [],
   "source": [
    "import random\n",
    "\n",
    "def get_clue():\n",
    "    words = [\"perro\", \"rinoceronte\", \"gato\", \"elefante\", \"jirafa\", \"tigre\", \"león\", \"pantera\", \"jaguar\", \"oso\", \"zorro\", \"gato\", \"elefante\", \"jirafa\", \"tigre\", \"león\", \"pantera\", \"jaguar\", \"oso\", \"zorro\"]\n",
    "    random_word = random.choice(words)\n",
    "    prompt = \"Adivina la palabra que estoy pensando es un animal de la selva\"\n",
    "    \n",
    "    return random_word, prompt\n",
    "\n",
    "def check_answer(user_input, answer):\n",
    "    if user_input == answer:\n",
    "        return True\n",
    "    return False\n",
    "\n",
    "def give_property(animal):\n",
    "    response = client.chat.completions.create(\n",
    "        model=\"gpt-4o\",\n",
    "        messages=[{\"role\": \"user\", \"content\": \"Dime una propiedad del \" + animal + \" Jamas menciona su nombre\"}],\n",
    "        max_tokens=100,\n",
    "    )\n",
    "    return response.choices[0].message.content\n",
    "    \n",
    "    "
   ]
  },
  {
   "cell_type": "code",
   "execution_count": 31,
   "metadata": {},
   "outputs": [
    {
     "name": "stdout",
     "output_type": "stream",
     "text": [
      "Adivina la palabra que estoy pensando es un animal de la selva\n",
      "Es conocido por tener una memoria excepcional.\n",
      "Este animal es conocido por su larga trompa, que utiliza para diversas funciones, como alimentarse, beber agua e interactuar con su entorno.\n",
      "Este animal posee una trompa larga y flexible que utiliza para diversas funciones como alimentarse y bañarse.\n"
     ]
    }
   ],
   "source": [
    "def play_game():\n",
    "    answer, prompt = get_clue()\n",
    "    print(prompt)\n",
    "    \n",
    "    while True:\n",
    "        user_input = input(\"Adivina la palabra: \")\n",
    "        if check_answer(user_input, answer):\n",
    "            print(\"¡Correcto! Has adivinado la palabra.\", answer )\n",
    "            break\n",
    "        else:\n",
    "            print(f\"¡Incorrecto! una pista: {give_property(answer)}\")\n",
    "\n",
    "play_game()\n",
    "            "
   ]
  }
 ],
 "metadata": {
  "kernelspec": {
   "display_name": "python_notebooks",
   "language": "python",
   "name": "python3"
  },
  "language_info": {
   "codemirror_mode": {
    "name": "ipython",
    "version": 3
   },
   "file_extension": ".py",
   "mimetype": "text/x-python",
   "name": "python",
   "nbconvert_exporter": "python",
   "pygments_lexer": "ipython3",
   "version": "3.11.11"
  }
 },
 "nbformat": 4,
 "nbformat_minor": 2
}
